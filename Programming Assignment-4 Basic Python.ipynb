{
 "cells": [
  {
   "cell_type": "code",
   "execution_count": 4,
   "id": "b986a838",
   "metadata": {},
   "outputs": [
    {
     "name": "stdout",
     "output_type": "stream",
     "text": [
      "Enter the number5\n",
      "Factorial= 120\n"
     ]
    }
   ],
   "source": [
    "#Q1 Write a Python Program to Display the multiplication Table?\n",
    "n=int(input(\"Enter the number\"))\n",
    "fac=1\n",
    "while (n>0):\n",
    "    fac=fac*n\n",
    "    n=n-1\n",
    "print(\"Factorial=\",fac)"
   ]
  },
  {
   "cell_type": "code",
   "execution_count": 5,
   "id": "089e8139",
   "metadata": {},
   "outputs": [
    {
     "name": "stdout",
     "output_type": "stream",
     "text": [
      "Enter the number5\n",
      "5 * 1 = 5\n",
      "5 * 2 = 10\n",
      "5 * 3 = 15\n",
      "5 * 4 = 20\n",
      "5 * 5 = 25\n",
      "5 * 6 = 30\n",
      "5 * 7 = 35\n",
      "5 * 8 = 40\n",
      "5 * 9 = 45\n",
      "5 * 10 = 50\n"
     ]
    }
   ],
   "source": [
    "#Q2 Write a Python Program to Display the multiplication Table?\n",
    "n=int(input(\"Enter the number\"))\n",
    "i=1\n",
    "while (i<=10):\n",
    "    print(n,\"*\",i,\"=\",n*i)\n",
    "    i=i+1"
   ]
  },
  {
   "cell_type": "code",
   "execution_count": 15,
   "id": "afc22bc4",
   "metadata": {},
   "outputs": [
    {
     "name": "stdout",
     "output_type": "stream",
     "text": [
      "Enter a number10\n",
      "0\n",
      "1\n",
      "1\n",
      "2\n",
      "3\n",
      "5\n",
      "8\n"
     ]
    }
   ],
   "source": [
    "#Q3 Write a Python Program to Print the Fibonacci sequence?\n",
    "n=int(input(\"Enter a number\"))\n",
    "x=0\n",
    "y=1\n",
    "z=0\n",
    "while (z<=n):\n",
    "    print(z)\n",
    "    x=y\n",
    "    y=z\n",
    "    z=x+y"
   ]
  },
  {
   "cell_type": "code",
   "execution_count": 18,
   "id": "703757fa",
   "metadata": {},
   "outputs": [
    {
     "name": "stdout",
     "output_type": "stream",
     "text": [
      "Enter your number420\n",
      "Not an armstrong number\n"
     ]
    }
   ],
   "source": [
    "#Q4 Write a Python Program to Check Armstrong Number?\n",
    "n=int(input(\"Enter your number\"))\n",
    "i=n\n",
    "count=0\n",
    "while (i>0):\n",
    "    i=i/10\n",
    "    count=count+1\n",
    "    sum=0\n",
    "    i=n\n",
    "    while(i>0):\n",
    "        digit=i%10\n",
    "        x=1\n",
    "        pro=1\n",
    "        while(x<= count):\n",
    "            pro=pro*digit\n",
    "            x=x+1\n",
    "        sum=sum+pro\n",
    "        i=i/10\n",
    "if (sum==n):\n",
    "    print(\"Armstrong number\")\n",
    "else :\n",
    "    print(\"Not an armstrong number\")\n",
    "        "
   ]
  },
  {
   "cell_type": "code",
   "execution_count": null,
   "id": "97f93848",
   "metadata": {},
   "outputs": [],
   "source": [
    "#Q5 Write a Python Program to Find the Sum of Natural Numbers?\n",
    "n=20\n",
    "sum=0\n",
    "while (n>0):\n",
    "    sum=sum+n\n",
    "    n=n-1\n",
    "print(n)   "
   ]
  },
  {
   "cell_type": "code",
   "execution_count": null,
   "id": "0b7d2721",
   "metadata": {},
   "outputs": [],
   "source": []
  }
 ],
 "metadata": {
  "kernelspec": {
   "display_name": "Python 3 (ipykernel)",
   "language": "python",
   "name": "python3"
  },
  "language_info": {
   "codemirror_mode": {
    "name": "ipython",
    "version": 3
   },
   "file_extension": ".py",
   "mimetype": "text/x-python",
   "name": "python",
   "nbconvert_exporter": "python",
   "pygments_lexer": "ipython3",
   "version": "3.9.7"
  }
 },
 "nbformat": 4,
 "nbformat_minor": 5
}
